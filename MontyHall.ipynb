{
  "nbformat": 4,
  "nbformat_minor": 0,
  "metadata": {
    "colab": {
      "provenance": [],
      "authorship_tag": "ABX9TyNVrZoW8dd+fxn3hrovdsdP",
      "include_colab_link": true
    },
    "kernelspec": {
      "name": "python3",
      "display_name": "Python 3"
    },
    "language_info": {
      "name": "python"
    }
  },
  "cells": [
    {
      "cell_type": "markdown",
      "metadata": {
        "id": "view-in-github",
        "colab_type": "text"
      },
      "source": [
        "<a href=\"https://colab.research.google.com/github/econdatatech/AIML429/blob/main/MontyHall.ipynb\" target=\"_parent\"><img src=\"https://colab.research.google.com/assets/colab-badge.svg\" alt=\"Open In Colab\"/></a>"
      ]
    },
    {
      "cell_type": "code",
      "execution_count": 4,
      "metadata": {
        "colab": {
          "base_uri": "https://localhost:8080/"
        },
        "id": "YBFWcswzDpfV",
        "outputId": "e08577ae-7afb-40ae-b19f-48eb6477c178"
      },
      "outputs": [
        {
          "output_type": "stream",
          "name": "stdout",
          "text": [
            "+------+----------+\n",
            "| P    |   phi(P) |\n",
            "+======+==========+\n",
            "| P(0) |   0.4286 |\n",
            "+------+----------+\n",
            "| P(1) |   0.0000 |\n",
            "+------+----------+\n",
            "| P(2) |   0.5714 |\n",
            "+------+----------+\n"
          ]
        }
      ],
      "source": [
        "!pip install -q pgmpy\n",
        "from pgmpy.models import BayesianNetwork\n",
        "from pgmpy.factors.discrete import TabularCPD\n",
        "# Defining the network structure\n",
        "model = BayesianNetwork([(\"C\", \"H\"), (\"P\", \"H\")])\n",
        "# Defining the CPDs:\n",
        "cpd_c = TabularCPD(\"C\", 3, [[0.33], [0.33], [0.33]])\n",
        "cpd_p = TabularCPD(\"P\", 3, [[0.33], [0.33], [0.33]])\n",
        "cpd_h = TabularCPD(\n",
        "    \"H\",\n",
        "    3,\n",
        "    [\n",
        "        [0, 0, 0, 0, 0.5, 1, 0, 1, 0.25],\n",
        "        [0.75, 0, 1, 0, 0, 0, 1, 0, 0.75],\n",
        "        [0.25, 1, 0, 1, 0.5, 0, 0, 0, 0],\n",
        "    ],\n",
        "    evidence=[\"C\", \"P\"],\n",
        "    evidence_card=[3, 3],\n",
        ")\n",
        "# Associating the CPDs with the network structure.\n",
        "model.add_cpds(cpd_c, cpd_p, cpd_h)\n",
        "# Some other methods\n",
        "model.get_cpds()\n",
        "# check_model check for the model structure and the associated\n",
        "#CPD and returns True if everything is correct otherwise throws an exception\n",
        "model.check_model()\n",
        "# Infering the posterior probability\n",
        "from pgmpy.inference import VariableElimination\n",
        "infer = VariableElimination(model)\n",
        "posterior_p = infer.query([\"P\"], evidence={\"C\": 0, \"H\": 1})\n",
        "print(posterior_p)"
      ]
    }
  ]
}