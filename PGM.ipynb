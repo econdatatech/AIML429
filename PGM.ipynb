{
  "cells": [
    {
      "cell_type": "markdown",
      "metadata": {
        "id": "view-in-github",
        "colab_type": "text"
      },
      "source": [
        "<a href=\"https://colab.research.google.com/github/econdatatech/AIML429/blob/main/PGM.ipynb\" target=\"_parent\"><img src=\"https://colab.research.google.com/assets/colab-badge.svg\" alt=\"Open In Colab\"/></a>"
      ]
    },
    {
      "cell_type": "code",
      "execution_count": 2,
      "id": "41a4bea8-fa56-45dc-bb48-2e3ed5cf1293",
      "metadata": {
        "colab": {
          "base_uri": "https://localhost:8080/"
        },
        "id": "41a4bea8-fa56-45dc-bb48-2e3ed5cf1293",
        "outputId": "52970f33-19eb-48e0-c61e-baabe31d7891"
      },
      "outputs": [
        {
          "output_type": "stream",
          "name": "stdout",
          "text": [
            "\u001b[?25l     \u001b[90m━━━━━━━━━━━━━━━━━━━━━━━━━━━━━━━━━━━━━━━━\u001b[0m \u001b[32m0.0/1.9 MB\u001b[0m \u001b[31m?\u001b[0m eta \u001b[36m-:--:--\u001b[0m\r\u001b[2K     \u001b[91m━━\u001b[0m\u001b[91m╸\u001b[0m\u001b[90m━━━━━━━━━━━━━━━━━━━━━━━━━━━━━━━━━━━━━\u001b[0m \u001b[32m0.1/1.9 MB\u001b[0m \u001b[31m5.4 MB/s\u001b[0m eta \u001b[36m0:00:01\u001b[0m\r\u001b[2K     \u001b[91m━━━━━━━━━━━━━━━\u001b[0m\u001b[90m╺\u001b[0m\u001b[90m━━━━━━━━━━━━━━━━━━━━━━━━\u001b[0m \u001b[32m0.7/1.9 MB\u001b[0m \u001b[31m10.4 MB/s\u001b[0m eta \u001b[36m0:00:01\u001b[0m\r\u001b[2K     \u001b[91m━━━━━━━━━━━━━━━━━━━━━━━━━━━━━━━━━━━━━━━\u001b[0m\u001b[91m╸\u001b[0m \u001b[32m1.9/1.9 MB\u001b[0m \u001b[31m22.2 MB/s\u001b[0m eta \u001b[36m0:00:01\u001b[0m\r\u001b[2K     \u001b[90m━━━━━━━━━━━━━━━━━━━━━━━━━━━━━━━━━━━━━━━━\u001b[0m \u001b[32m1.9/1.9 MB\u001b[0m \u001b[31m17.7 MB/s\u001b[0m eta \u001b[36m0:00:00\u001b[0m\n",
            "\u001b[?25h"
          ]
        }
      ],
      "source": [
        "!pip install -q pgmpy\n",
        "from itertools import combinations\n",
        "import pandas\n",
        "import networkx as nx\n",
        "from sklearn.metrics import f1_score\n",
        "import numpy as np\n",
        "from pgmpy.estimators import HillClimbSearch, ExhaustiveSearch,K2Score, BicScore, BDeuScore,MmhcEstimator,BDsScore\n",
        "\n",
        "import csv"
      ]
    },
    {
      "cell_type": "code",
      "execution_count": 3,
      "id": "d4cce952-8825-476f-a6a7-e4d3df58a64e",
      "metadata": {
        "id": "d4cce952-8825-476f-a6a7-e4d3df58a64e"
      },
      "outputs": [],
      "source": [
        "samples=pandas.DataFrame(pandas.read_csv(\"https://raw.githubusercontent.com/econdatatech/AIML429/main/pet-prey-temp.txt\", sep='\\t', lineterminator='\\r',converters={'pet':lambda x:x.replace('\\n','')})[:-1])"
      ]
    },
    {
      "cell_type": "code",
      "execution_count": 4,
      "id": "576b6c79-4a7a-4a99-ba07-8936ef49f1e1",
      "metadata": {
        "colab": {
          "base_uri": "https://localhost:8080/",
          "height": 424
        },
        "id": "576b6c79-4a7a-4a99-ba07-8936ef49f1e1",
        "outputId": "a3ecc8a4-c3d5-416e-b34c-0d55f13ee679"
      },
      "outputs": [
        {
          "output_type": "execute_result",
          "data": {
            "text/plain": [
              "     pet     prey  temp\n",
              "0    dog    skink  cold\n",
              "1    dog    mouse  warm\n",
              "2    dog    mouse  warm\n",
              "3    dog    skink  warm\n",
              "4    dog    skink  cold\n",
              "..   ...      ...   ...\n",
              "995  dog  sparrow  cold\n",
              "996  dog    mouse  warm\n",
              "997  dog    skink  cold\n",
              "998  dog    skink  cold\n",
              "999  cat    mouse  cold\n",
              "\n",
              "[1000 rows x 3 columns]"
            ],
            "text/html": [
              "\n",
              "  <div id=\"df-4f0e9455-64af-4434-aa67-58675e6ac68a\">\n",
              "    <div class=\"colab-df-container\">\n",
              "      <div>\n",
              "<style scoped>\n",
              "    .dataframe tbody tr th:only-of-type {\n",
              "        vertical-align: middle;\n",
              "    }\n",
              "\n",
              "    .dataframe tbody tr th {\n",
              "        vertical-align: top;\n",
              "    }\n",
              "\n",
              "    .dataframe thead th {\n",
              "        text-align: right;\n",
              "    }\n",
              "</style>\n",
              "<table border=\"1\" class=\"dataframe\">\n",
              "  <thead>\n",
              "    <tr style=\"text-align: right;\">\n",
              "      <th></th>\n",
              "      <th>pet</th>\n",
              "      <th>prey</th>\n",
              "      <th>temp</th>\n",
              "    </tr>\n",
              "  </thead>\n",
              "  <tbody>\n",
              "    <tr>\n",
              "      <th>0</th>\n",
              "      <td>dog</td>\n",
              "      <td>skink</td>\n",
              "      <td>cold</td>\n",
              "    </tr>\n",
              "    <tr>\n",
              "      <th>1</th>\n",
              "      <td>dog</td>\n",
              "      <td>mouse</td>\n",
              "      <td>warm</td>\n",
              "    </tr>\n",
              "    <tr>\n",
              "      <th>2</th>\n",
              "      <td>dog</td>\n",
              "      <td>mouse</td>\n",
              "      <td>warm</td>\n",
              "    </tr>\n",
              "    <tr>\n",
              "      <th>3</th>\n",
              "      <td>dog</td>\n",
              "      <td>skink</td>\n",
              "      <td>warm</td>\n",
              "    </tr>\n",
              "    <tr>\n",
              "      <th>4</th>\n",
              "      <td>dog</td>\n",
              "      <td>skink</td>\n",
              "      <td>cold</td>\n",
              "    </tr>\n",
              "    <tr>\n",
              "      <th>...</th>\n",
              "      <td>...</td>\n",
              "      <td>...</td>\n",
              "      <td>...</td>\n",
              "    </tr>\n",
              "    <tr>\n",
              "      <th>995</th>\n",
              "      <td>dog</td>\n",
              "      <td>sparrow</td>\n",
              "      <td>cold</td>\n",
              "    </tr>\n",
              "    <tr>\n",
              "      <th>996</th>\n",
              "      <td>dog</td>\n",
              "      <td>mouse</td>\n",
              "      <td>warm</td>\n",
              "    </tr>\n",
              "    <tr>\n",
              "      <th>997</th>\n",
              "      <td>dog</td>\n",
              "      <td>skink</td>\n",
              "      <td>cold</td>\n",
              "    </tr>\n",
              "    <tr>\n",
              "      <th>998</th>\n",
              "      <td>dog</td>\n",
              "      <td>skink</td>\n",
              "      <td>cold</td>\n",
              "    </tr>\n",
              "    <tr>\n",
              "      <th>999</th>\n",
              "      <td>cat</td>\n",
              "      <td>mouse</td>\n",
              "      <td>cold</td>\n",
              "    </tr>\n",
              "  </tbody>\n",
              "</table>\n",
              "<p>1000 rows × 3 columns</p>\n",
              "</div>\n",
              "      <button class=\"colab-df-convert\" onclick=\"convertToInteractive('df-4f0e9455-64af-4434-aa67-58675e6ac68a')\"\n",
              "              title=\"Convert this dataframe to an interactive table.\"\n",
              "              style=\"display:none;\">\n",
              "        \n",
              "  <svg xmlns=\"http://www.w3.org/2000/svg\" height=\"24px\"viewBox=\"0 0 24 24\"\n",
              "       width=\"24px\">\n",
              "    <path d=\"M0 0h24v24H0V0z\" fill=\"none\"/>\n",
              "    <path d=\"M18.56 5.44l.94 2.06.94-2.06 2.06-.94-2.06-.94-.94-2.06-.94 2.06-2.06.94zm-11 1L8.5 8.5l.94-2.06 2.06-.94-2.06-.94L8.5 2.5l-.94 2.06-2.06.94zm10 10l.94 2.06.94-2.06 2.06-.94-2.06-.94-.94-2.06-.94 2.06-2.06.94z\"/><path d=\"M17.41 7.96l-1.37-1.37c-.4-.4-.92-.59-1.43-.59-.52 0-1.04.2-1.43.59L10.3 9.45l-7.72 7.72c-.78.78-.78 2.05 0 2.83L4 21.41c.39.39.9.59 1.41.59.51 0 1.02-.2 1.41-.59l7.78-7.78 2.81-2.81c.8-.78.8-2.07 0-2.86zM5.41 20L4 18.59l7.72-7.72 1.47 1.35L5.41 20z\"/>\n",
              "  </svg>\n",
              "      </button>\n",
              "      \n",
              "  <style>\n",
              "    .colab-df-container {\n",
              "      display:flex;\n",
              "      flex-wrap:wrap;\n",
              "      gap: 12px;\n",
              "    }\n",
              "\n",
              "    .colab-df-convert {\n",
              "      background-color: #E8F0FE;\n",
              "      border: none;\n",
              "      border-radius: 50%;\n",
              "      cursor: pointer;\n",
              "      display: none;\n",
              "      fill: #1967D2;\n",
              "      height: 32px;\n",
              "      padding: 0 0 0 0;\n",
              "      width: 32px;\n",
              "    }\n",
              "\n",
              "    .colab-df-convert:hover {\n",
              "      background-color: #E2EBFA;\n",
              "      box-shadow: 0px 1px 2px rgba(60, 64, 67, 0.3), 0px 1px 3px 1px rgba(60, 64, 67, 0.15);\n",
              "      fill: #174EA6;\n",
              "    }\n",
              "\n",
              "    [theme=dark] .colab-df-convert {\n",
              "      background-color: #3B4455;\n",
              "      fill: #D2E3FC;\n",
              "    }\n",
              "\n",
              "    [theme=dark] .colab-df-convert:hover {\n",
              "      background-color: #434B5C;\n",
              "      box-shadow: 0px 1px 3px 1px rgba(0, 0, 0, 0.15);\n",
              "      filter: drop-shadow(0px 1px 2px rgba(0, 0, 0, 0.3));\n",
              "      fill: #FFFFFF;\n",
              "    }\n",
              "  </style>\n",
              "\n",
              "      <script>\n",
              "        const buttonEl =\n",
              "          document.querySelector('#df-4f0e9455-64af-4434-aa67-58675e6ac68a button.colab-df-convert');\n",
              "        buttonEl.style.display =\n",
              "          google.colab.kernel.accessAllowed ? 'block' : 'none';\n",
              "\n",
              "        async function convertToInteractive(key) {\n",
              "          const element = document.querySelector('#df-4f0e9455-64af-4434-aa67-58675e6ac68a');\n",
              "          const dataTable =\n",
              "            await google.colab.kernel.invokeFunction('convertToInteractive',\n",
              "                                                     [key], {});\n",
              "          if (!dataTable) return;\n",
              "\n",
              "          const docLinkHtml = 'Like what you see? Visit the ' +\n",
              "            '<a target=\"_blank\" href=https://colab.research.google.com/notebooks/data_table.ipynb>data table notebook</a>'\n",
              "            + ' to learn more about interactive tables.';\n",
              "          element.innerHTML = '';\n",
              "          dataTable['output_type'] = 'display_data';\n",
              "          await google.colab.output.renderOutput(dataTable, element);\n",
              "          const docLink = document.createElement('div');\n",
              "          docLink.innerHTML = docLinkHtml;\n",
              "          element.appendChild(docLink);\n",
              "        }\n",
              "      </script>\n",
              "    </div>\n",
              "  </div>\n",
              "  "
            ]
          },
          "metadata": {},
          "execution_count": 4
        }
      ],
      "source": [
        "samples"
      ]
    },
    {
      "cell_type": "code",
      "execution_count": 5,
      "id": "3289cb82-f758-4fc2-8148-bfff57ecb567",
      "metadata": {
        "colab": {
          "base_uri": "https://localhost:8080/"
        },
        "id": "3289cb82-f758-4fc2-8148-bfff57ecb567",
        "outputId": "00a2e866-1648-4b72-ee2d-34a08936a996"
      },
      "outputs": [
        {
          "output_type": "stream",
          "name": "stdout",
          "text": [
            "[('pet', 'prey'), ('pet', 'temp')]\n",
            "\n",
            "All DAGs by score:\n",
            "-2475.3085773118005 [('pet', 'prey'), ('pet', 'temp')]\n",
            "-2475.3379855966637 [('pet', 'prey'), ('temp', 'pet')]\n",
            "-2475.4812679125957 [('pet', 'prey')]\n",
            "-2475.5316868232476 [('pet', 'temp'), ('prey', 'pet')]\n",
            "-2475.704377424043 [('prey', 'pet')]\n",
            "-2477.7280244022786 [('prey', 'pet'), ('temp', 'pet')]\n",
            "-2477.930560367481 [('pet', 'temp')]\n",
            "-2477.9599686523443 [('temp', 'pet')]\n",
            "-2478.1032509682764 []\n",
            "-2479.7608693619272 [('pet', 'prey'), ('prey', 'temp')]\n",
            "-2479.819566924289 [('prey', 'pet'), ('temp', 'prey')]\n",
            "-2479.9839788733743 [('prey', 'temp'), ('prey', 'pet')]\n",
            "-2481.355126466882 [('pet', 'prey'), ('pet', 'temp'), ('temp', 'prey')]\n",
            "-2481.3845347517454 [('pet', 'prey'), ('temp', 'pet'), ('temp', 'prey')]\n",
            "-2481.5278170676775 [('pet', 'prey'), ('temp', 'prey')]\n",
            "-2481.6582921762706 [('pet', 'prey'), ('pet', 'temp'), ('prey', 'temp')]\n",
            "-2481.843213902525 [('prey', 'pet'), ('temp', 'pet'), ('temp', 'prey')]\n",
            "-2481.8814016877177 [('pet', 'temp'), ('prey', 'temp'), ('prey', 'pet')]\n",
            "-2482.00762585161 [('prey', 'temp'), ('prey', 'pet'), ('temp', 'pet')]\n",
            "-2482.0457498677274 [('pet', 'temp'), ('temp', 'prey')]\n",
            "-2482.0751581525906 [('temp', 'pet'), ('temp', 'prey')]\n",
            "-2482.2184404685227 [('temp', 'prey')]\n",
            "-2482.239570101676 [('prey', 'temp'), ('temp', 'pet')]\n",
            "-2482.382852417608 [('prey', 'temp')]\n",
            "-2484.2802752319512 [('pet', 'temp'), ('prey', 'temp')]\n",
            "[('pet', 'prey')]\n",
            "\n",
            "All DAGs by score:\n",
            "-2479.059505548254 [('prey', 'pet')]\n",
            "-2479.059505548254 [('pet', 'prey')]\n",
            "-2479.413225881482 []\n",
            "-2479.8135751789114 [('pet', 'temp'), ('prey', 'pet')]\n",
            "-2479.8135751789114 [('pet', 'prey'), ('pet', 'temp')]\n",
            "-2479.813575178912 [('pet', 'prey'), ('temp', 'pet')]\n",
            "-2480.1672955121394 [('temp', 'pet')]\n",
            "-2480.1672955121394 [('pet', 'temp')]\n",
            "-2485.3878084258313 [('prey', 'pet'), ('temp', 'pet')]\n",
            "-2485.4332601859705 [('prey', 'pet'), ('temp', 'prey')]\n",
            "-2485.4332601859705 [('pet', 'prey'), ('prey', 'temp')]\n",
            "-2485.433260185971 [('prey', 'temp'), ('prey', 'pet')]\n",
            "-2485.7869805191986 [('temp', 'prey')]\n",
            "-2485.7869805191986 [('prey', 'temp')]\n",
            "-2486.541050149856 [('pet', 'temp'), ('temp', 'prey')]\n",
            "-2486.5410501498563 [('temp', 'pet'), ('temp', 'prey')]\n",
            "-2486.5410501498563 [('prey', 'temp'), ('temp', 'pet')]\n",
            "-2491.0074934328904 [('pet', 'prey'), ('temp', 'prey')]\n",
            "-2491.761563063548 [('prey', 'pet'), ('temp', 'pet'), ('temp', 'prey')]\n",
            "-2491.761563063548 [('pet', 'temp'), ('prey', 'temp'), ('prey', 'pet')]\n",
            "-2491.761563063548 [('pet', 'prey'), ('pet', 'temp'), ('temp', 'prey')]\n",
            "-2491.761563063548 [('pet', 'prey'), ('pet', 'temp'), ('prey', 'temp')]\n",
            "-2491.7615630635482 [('prey', 'temp'), ('prey', 'pet'), ('temp', 'pet')]\n",
            "-2491.7615630635482 [('pet', 'prey'), ('temp', 'pet'), ('temp', 'prey')]\n",
            "-2492.115283396776 [('pet', 'temp'), ('prey', 'temp')]\n"
          ]
        }
      ],
      "source": [
        "# What 3-node belief net structure(s) would best match the dependencies exhibited by this data? (Justify your answer,\n",
        "#i.e. are there independencies? conditional or otherwise? Does observation of one induce\n",
        "#dependencies among the others?)\n",
        "\n",
        "es = ExhaustiveSearch(samples,scoring_method=K2Score(samples))\n",
        "best_model = es.estimate()\n",
        "print(best_model.edges())\n",
        "\n",
        "print(\"\\nAll DAGs by score:\")\n",
        "for score, dag in reversed(es.all_scores()):\n",
        "    print(score, dag.edges())\n",
        "\n",
        "\n",
        "es = ExhaustiveSearch(samples,scoring_method=BicScore(samples))\n",
        "best_model = es.estimate()\n",
        "print(best_model.edges())\n",
        "\n",
        "print(\"\\nAll DAGs by score:\")\n",
        "for score, dag in reversed(es.all_scores()):\n",
        "    print(score, dag.edges())"
      ]
    },
    {
      "cell_type": "code",
      "execution_count": null,
      "id": "b897a399-9b3e-4146-bab2-d1e3592247b4",
      "metadata": {
        "colab": {
          "referenced_widgets": [
            "dd4f3c2aab2542ed93ca4ec1598b6ce5"
          ]
        },
        "id": "b897a399-9b3e-4146-bab2-d1e3592247b4",
        "outputId": "7f495ebd-46f7-4863-d984-6e634c30e982"
      },
      "outputs": [
        {
          "name": "stdout",
          "output_type": "stream",
          "text": [
            "Part 1) Skeleton:  [('pet', 'prey')]\n"
          ]
        },
        {
          "data": {
            "application/vnd.jupyter.widget-view+json": {
              "model_id": "dd4f3c2aab2542ed93ca4ec1598b6ce5",
              "version_major": 2,
              "version_minor": 0
            },
            "text/plain": [
              "  0%|          | 0/1000000 [00:00<?, ?it/s]"
            ]
          },
          "metadata": {},
          "output_type": "display_data"
        },
        {
          "name": "stdout",
          "output_type": "stream",
          "text": [
            "Part 2) Model:     [('prey', 'pet')]\n"
          ]
        }
      ],
      "source": [
        "data=samples\n",
        "mmhc = MmhcEstimator(data)\n",
        "skeleton = mmhc.mmpc()\n",
        "print(\"Part 1) Skeleton: \", skeleton.edges())\n",
        "\n",
        "# use hill climb search to orient the edges:\n",
        "hc = HillClimbSearch(data)\n",
        "model = hc.estimate(tabu_length=10, white_list=skeleton.to_directed().edges(), scoring_method=BDeuScore(data))\n",
        "print(\"Part 2) Model:    \", model.edges())"
      ]
    },
    {
      "cell_type": "code",
      "execution_count": null,
      "id": "bc57f5a1-38c4-40f7-af8b-af9ba25b0984",
      "metadata": {
        "id": "bc57f5a1-38c4-40f7-af8b-af9ba25b0984",
        "outputId": "19758e1b-1588-488a-85d3-05dba9b3089e"
      },
      "outputs": [
        {
          "ename": "NameError",
          "evalue": "name 'PC' is not defined",
          "output_type": "error",
          "traceback": [
            "\u001b[0;31m---------------------------------------------------------------------------\u001b[0m",
            "\u001b[0;31mNameError\u001b[0m                                 Traceback (most recent call last)",
            "Input \u001b[0;32mIn [6]\u001b[0m, in \u001b[0;36m<cell line: 1>\u001b[0;34m()\u001b[0m\n\u001b[0;32m----> 1\u001b[0m est \u001b[38;5;241m=\u001b[39m \u001b[43mPC\u001b[49m(data)\n\u001b[1;32m      2\u001b[0m skel, seperating_sets \u001b[38;5;241m=\u001b[39m est\u001b[38;5;241m.\u001b[39mbuild_skeleton(significance_level\u001b[38;5;241m=\u001b[39m\u001b[38;5;241m0.01\u001b[39m)\n\u001b[1;32m      3\u001b[0m \u001b[38;5;28mprint\u001b[39m(\u001b[38;5;124m\"\u001b[39m\u001b[38;5;124mUndirected edges: \u001b[39m\u001b[38;5;124m\"\u001b[39m, skel\u001b[38;5;241m.\u001b[39medges())\n",
            "\u001b[0;31mNameError\u001b[0m: name 'PC' is not defined"
          ]
        }
      ],
      "source": [
        "est = PC(data)\n",
        "skel, seperating_sets = est.build_skeleton(significance_level=0.01)\n",
        "print(\"Undirected edges: \", skel.edges())\n",
        "\n",
        "pdag = est.skeleton_to_pdag(skel, seperating_sets)\n",
        "print(\"PDAG edges:       \", pdag.edges())\n",
        "\n",
        "model = pdag.to_dag()\n",
        "print(\"DAG edges:        \", model.edges())"
      ]
    }
  ],
  "metadata": {
    "kernelspec": {
      "display_name": "Python 3 (ipykernel)",
      "language": "python",
      "name": "python3"
    },
    "language_info": {
      "codemirror_mode": {
        "name": "ipython",
        "version": 3
      },
      "file_extension": ".py",
      "mimetype": "text/x-python",
      "name": "python",
      "nbconvert_exporter": "python",
      "pygments_lexer": "ipython3",
      "version": "3.9.12"
    },
    "colab": {
      "provenance": [],
      "include_colab_link": true
    }
  },
  "nbformat": 4,
  "nbformat_minor": 5
}