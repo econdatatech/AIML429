{
  "nbformat": 4,
  "nbformat_minor": 0,
  "metadata": {
    "colab": {
      "provenance": [],
      "authorship_tag": "ABX9TyPWQQ8AnZHirteGBW9GkIy0",
      "include_colab_link": true
    },
    "kernelspec": {
      "name": "python3",
      "display_name": "Python 3"
    },
    "language_info": {
      "name": "python"
    }
  },
  "cells": [
    {
      "cell_type": "markdown",
      "metadata": {
        "id": "view-in-github",
        "colab_type": "text"
      },
      "source": [
        "<a href=\"https://colab.research.google.com/github/econdatatech/AIML429/blob/main/Deconfounding.ipynb\" target=\"_parent\"><img src=\"https://colab.research.google.com/assets/colab-badge.svg\" alt=\"Open In Colab\"/></a>"
      ]
    },
    {
      "cell_type": "code",
      "execution_count": 5,
      "metadata": {
        "colab": {
          "base_uri": "https://localhost:8080/",
          "height": 347
        },
        "id": "8dkptasmEchF",
        "outputId": "1c6227ba-5dda-438c-ce4a-ee3e63e388e1"
      },
      "outputs": [
        {
          "output_type": "display_data",
          "data": {
            "text/plain": [
              "<Figure size 314.961x236.22 with 1 Axes>"
            ],
            "image/png": "[encoded data removed]"
          },
          "metadata": {}
        },
        {
          "output_type": "stream",
          "name": "stdout",
          "text": [
            "Possible backdoor adjustment sets: frozenset()\n"
          ]
        },
        {
          "output_type": "stream",
          "name": "stderr",
          "text": [
            "/usr/local/lib/python3.10/dist-packages/pgmpy/models/BayesianModel.py:8: FutureWarning: BayesianModel has been renamed to BayesianNetwork. Please use BayesianNetwork class, BayesianModel will be removed in future.\n",
            "  warnings.warn(\n"
          ]
        }
      ],
      "source": [
        "!pip3 install -q daft\n",
        "!pip3 install -q pgmpy\n",
        "import matplotlib.pyplot as plt\n",
        "%matplotlib inline\n",
        "import daft\n",
        "from daft import PGM\n",
        "\n",
        "# We can now import the development version of pgmpy\n",
        "from pgmpy.models.BayesianModel import BayesianModel\n",
        "from pgmpy.inference.CausalInference import CausalInference\n",
        "\n",
        "def convert_pgm_to_pgmpy(pgm):\n",
        "    \"\"\"Takes a Daft PGM object and converts it to a pgmpy BayesianModel\"\"\"\n",
        "    edges = [(edge.node1.name, edge.node2.name) for edge in pgm._edges]\n",
        "    model = BayesianModel(edges)\n",
        "    return model\n",
        "pgm = PGM(shape=[4, 3])\n",
        "\n",
        "pgm.add_node(daft.Node('A', r\"A\", 1, 3))\n",
        "pgm.add_node(daft.Node('C', r\"C\", 3, 3))\n",
        "pgm.add_node(daft.Node('B', r\"B\", 2, 2))\n",
        "pgm.add_node(daft.Node('X', r\"X\", 1, 1))\n",
        "pgm.add_node(daft.Node('Y', r\"Y\", 3, 1))\n",
        "\n",
        "\n",
        "pgm.add_edge('A', 'B')\n",
        "pgm.add_edge('C', 'B')\n",
        "pgm.add_edge('A', 'X')\n",
        "pgm.add_edge('C', 'Y')\n",
        "pgm.add_edge('X', 'Y')\n",
        "\n",
        "pgm.render()\n",
        "plt.show()\n",
        "game1 = convert_pgm_to_pgmpy(pgm)\n",
        "inference1 = CausalInference(game1)\n",
        "adj_sets = inference1.get_all_backdoor_adjustment_sets(\"X\", \"Y\")\n",
        "print(f\"Possible backdoor adjustment sets: {adj_sets}\")"
      ]
    }
  ]
}